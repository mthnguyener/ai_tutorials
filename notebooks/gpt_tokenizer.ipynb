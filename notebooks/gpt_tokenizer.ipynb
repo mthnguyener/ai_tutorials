{
 "cells": [
  {
   "cell_type": "markdown",
   "id": "99990ba8-3651-4e52-b2b7-b4addf4895ad",
   "metadata": {},
   "source": [
    "# Tokenization"
   ]
  },
  {
   "cell_type": "code",
   "execution_count": 9,
   "id": "83fe52f5-4a20-4165-8d51-944a1cd6d473",
   "metadata": {},
   "outputs": [],
   "source": [
    "import numpy as np"
   ]
  },
  {
   "cell_type": "code",
   "execution_count": 1,
   "id": "18bf3f9f-f443-4487-85dd-3d61ba066cfa",
   "metadata": {},
   "outputs": [],
   "source": [
    "def tokenizer(x, y):\n",
    "    z = x + y\n",
    "    return z"
   ]
  },
  {
   "cell_type": "code",
   "execution_count": 4,
   "id": "e99c1f7e-5571-4cb8-8cfb-a3b56b703a9a",
   "metadata": {},
   "outputs": [],
   "source": [
    "x, y = 5, 3"
   ]
  },
  {
   "cell_type": "code",
   "execution_count": 7,
   "id": "9a741a0d-72c0-4b19-a152-e7531b2cc0df",
   "metadata": {},
   "outputs": [
    {
     "name": "stdout",
     "output_type": "stream",
     "text": [
      "8\n"
     ]
    }
   ],
   "source": [
    "answer = tokenizer(x, y)\n",
    "print(answer)"
   ]
  },
  {
   "cell_type": "code",
   "execution_count": 21,
   "id": "851f8621-f45f-4863-8156-37d772d3ff4b",
   "metadata": {},
   "outputs": [],
   "source": [
    "a = np.array([[5, 4, 6, 9], [3, 6, 3, 9], [6, 7, 6, 8]])"
   ]
  },
  {
   "cell_type": "code",
   "execution_count": 22,
   "id": "a741bef2-4758-4554-b03b-9ea0919e0905",
   "metadata": {},
   "outputs": [
    {
     "data": {
      "text/plain": [
       "array([[5, 4, 6, 9],\n",
       "       [3, 6, 3, 9],\n",
       "       [6, 7, 6, 8]])"
      ]
     },
     "execution_count": 22,
     "metadata": {},
     "output_type": "execute_result"
    }
   ],
   "source": [
    "a # embedding representing the word \"Hello\""
   ]
  }
 ],
 "metadata": {
  "kernelspec": {
   "display_name": "Python 3 (ipykernel)",
   "language": "python",
   "name": "python3"
  },
  "language_info": {
   "codemirror_mode": {
    "name": "ipython",
    "version": 3
   },
   "file_extension": ".py",
   "mimetype": "text/x-python",
   "name": "python",
   "nbconvert_exporter": "python",
   "pygments_lexer": "ipython3",
   "version": "3.10.12"
  }
 },
 "nbformat": 4,
 "nbformat_minor": 5
}
