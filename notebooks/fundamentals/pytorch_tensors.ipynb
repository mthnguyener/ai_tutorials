{
 "cells": [
  {
   "cell_type": "markdown",
   "id": "472b2462-31be-4a62-bc8b-2b362dd33115",
   "metadata": {},
   "source": [
    "# PyTorch Tensors <a id=\"top\"></a>"
   ]
  },
  {
   "cell_type": "markdown",
   "id": "24d8e44a-2707-4762-9854-df6bc40cf1ef",
   "metadata": {},
   "source": [
    "---\n",
    "## Table of Contents\n",
    "\n",
    "* [PyTorch Tensors Overview](#tensors_overview)\n",
    "    * [Tensors vs NumPy](#vs_numpy)\n",
    "* [Tensor Tutorial](#tensor_tutorial)\n",
    "    * [Imports](#imports)\n",
    "    * [Tensor Creation and Properties](#properties)\n",
    "    * [Basic Operations](#operations)\n",
    "    * [Reshaping and Slicing](#reshaping)\n",
    "    * [Linear Algebra Operations and Broadcasting](#linear)\n",
    "    * [GPU Acceleration with Tensors](#gpu)\n",
    "    * [Calculating Gradients](#gradient)\n",
    "    * [Bonus: Tensors to NumPy Arrays](#convert)"
   ]
  },
  {
   "cell_type": "markdown",
   "id": "a0738617-2ff0-44b9-aad6-534c8f3ae885",
   "metadata": {},
   "source": [
    "# PyTorch Tensors Overview<a class=\"anchor\" id=\"tensors_overview\"></a>"
   ]
  },
  {
   "cell_type": "markdown",
   "id": "182bf802-fd4b-48e2-bb51-f7753b9d10fd",
   "metadata": {},
   "source": [
    "A Torch tensor refers to a multi-dimensional array in PyTorch, which is an open-source machine learning library primarily developed by Facebook's AI Research lab (FAIR). Tensors are fundamental data structures in PyTorch and serve as the primary building blocks for constructing neural networks and performing various mathematical operations involved in deep learning tasks."
   ]
  },
  {
   "cell_type": "markdown",
   "id": "02b8a60a-73ad-42c8-9438-e58f0c3a8eb4",
   "metadata": {},
   "source": [
    "## Tensors vs NumPy <a class=\"anchor\" id=\"vs_numpy\"></a>"
   ]
  },
  {
   "cell_type": "markdown",
   "id": "ffcd377e-0063-45a1-b673-6efb50cd8bb3",
   "metadata": {
    "collapsed": true,
    "jupyter": {
     "outputs_hidden": true
    }
   },
   "source": [
    "**PyTorch Tensors**:\n",
    "- **Definition**: PyTorch tensors are multi-dimensional arrays that allow us to handle data in a uniform manner. They serve as the backbone of PyTorch models.\n",
    "- **Similarity to NumPy Arrays**: PyTorch tensors are conceptually similar to NumPy ndarrays. Both represent multi-dimensional arrays with uniform data types.\n",
    "- **Syntax and Interface**:\n",
    "    - To create PyTorch tensors, you can use the torch.tensor() method.\n",
    "    - Example: `my_tensor = torch.tensor([1, 2, 3])`\n",
    "- **Automatic Differentiation**: PyTorch tensors support built-in automatic differentiation using PyTorch’s Autograd module. This feature is crucial for deep learning tasks.\n",
    "- **GPU Support**: PyTorch tensors can be integrated with CUDA-enabled GPUs for accelerated computation.ime.\n",
    "- **Performance**: PyTorch tensors are optimized for deep learning tasks and efficient GPU acceleration.\n",
    "\n",
    "**NumPy ndarrays**:\n",
    "- **Definition**: NumPy arrays are fundamental data structures in the NumPy library for Python. They represent multi-dimensional arrays of homogeneous data.\n",
    "- **Syntax and Interface**:\n",
    "    - To create NumPy arrays, you can use the np.array() method.\n",
    "    - Example: `my_array = np.array([1, 2, 3])`\n",
    "- **Automatic Differentiation**: NumPy arrays do not support automatic differentiation out of the box.\n",
    "- **GPU Support**: NumPy has limited support for GPU computation, requiring additional libraries.\n",
    "- **Performance**: While efficient for general-purpose numerical computations, NumPy arrays are less optimized for deep learning.\n",
    "\n",
    "**Comparison Summary**:\n",
    "PyTorch tensors are more specialized for deep learning, while NumPy arrays are commonly used in typical machine learning algorithms.\n",
    "PyTorch tensors offer advantages like GPU acceleration and automatic differentiation.\n",
    "Both are powerful tools, but their use cases differ based on the context and requirements of your project."
   ]
  },
  {
   "cell_type": "markdown",
   "id": "9fa7cdcb-7f22-415c-af81-cd9f21e85aed",
   "metadata": {},
   "source": [
    "# Tensors Tutorial <a class=\"anchor\" id=\"tensor_tutorial\"></a>"
   ]
  },
  {
   "cell_type": "markdown",
   "id": "2343d45a-bf63-43fd-886e-ad890bae40d5",
   "metadata": {},
   "source": [
    "## Imports <a class=\"anchor\" id=\"imports\"></a>"
   ]
  },
  {
   "cell_type": "code",
   "execution_count": 1,
   "id": "fa7b6526-2269-442f-8023-4de3744c09a2",
   "metadata": {},
   "outputs": [],
   "source": [
    "import torch"
   ]
  },
  {
   "cell_type": "markdown",
   "id": "29952dc7-46b2-4193-afff-4bd2da025069",
   "metadata": {},
   "source": [
    "## Basic Tensor Creation and Properties <a class=\"anchor\" id=\"properties\"></a>"
   ]
  },
  {
   "cell_type": "code",
   "execution_count": 8,
   "id": "28622bd7-a275-4422-8f8f-b8c146f31a77",
   "metadata": {},
   "outputs": [
    {
     "name": "stdout",
     "output_type": "stream",
     "text": [
      "3x4 Tensor with uninitialized values:\n",
      "tensor([[-5.6875e+22,  3.0857e-41,  0.0000e+00,  0.0000e+00],\n",
      "        [-5.6933e+22,  3.0857e-41, -4.7270e+21,  3.0857e-41],\n",
      "        [-9.1396e+18,  4.5836e-41,  1.4013e-45,  0.0000e+00]])\n",
      "\n",
      "2x3 Tensor of zeros:\n",
      "tensor([[0., 0., 0.],\n",
      "        [0., 0., 0.]])\n",
      "\n",
      "2x3 Tensor of ones:\n",
      "tensor([[1., 1., 1.],\n",
      "        [1., 1., 1.]])\n"
     ]
    }
   ],
   "source": [
    "# Create a 3x4 tensor filled with uninitialized values\n",
    "# This will give you a tensor with random-looking values because it’s uninitialized.\n",
    "# The torch.empty() call allocates memory but doesn’t initialize the values\n",
    "x = torch.empty(3, 4)\n",
    "print(\"3x4 Tensor with uninitialized values:\")\n",
    "print(x)\n",
    "\n",
    "# Create a tensor filled with zeros\n",
    "zeros = torch.zeros(2, 3)\n",
    "print(\"\\n2x3 Tensor of zeros:\")\n",
    "print(zeros)\n",
    "\n",
    "# Create a tensor filled with ones\n",
    "ones = torch.ones(2, 3)\n",
    "print(\"\\n2x3 Tensor of ones:\")\n",
    "print(ones)"
   ]
  },
  {
   "cell_type": "code",
   "execution_count": 6,
   "id": "b5a69e34-b4f8-41da-bdf4-bb0d7f5d2ac3",
   "metadata": {},
   "outputs": [
    {
     "name": "stdout",
     "output_type": "stream",
     "text": [
      "1D Tensor:\n",
      "tensor([1, 2, 3, 4, 5])\n",
      "\n",
      "2D Tensor:\n",
      "tensor([[1, 2, 3],\n",
      "        [4, 5, 6]])\n",
      "\n",
      "2D Tensor of random values:\n",
      "tensor([[0.1120, 0.0472, 0.7522],\n",
      "        [0.9413, 0.0838, 0.6783]])\n"
     ]
    }
   ],
   "source": [
    "# Create a 1D tensor\n",
    "tensor1d = torch.tensor([1, 2, 3, 4, 5])\n",
    "print(\"1D Tensor:\")\n",
    "print(tensor1d)\n",
    "\n",
    "# Create a 2D tensor\n",
    "tensor2d = torch.tensor([[1, 2, 3], [4, 5, 6]])\n",
    "print(\"\\n2D Tensor:\")\n",
    "print(tensor2d)\n",
    "\n",
    "# Create a 2D tensor with random values between 0 and 1\n",
    "random = torch.rand(2, 3)\n",
    "print(\"\\n2D Tensor of random values:\")\n",
    "print(random)"
   ]
  },
  {
   "cell_type": "code",
   "execution_count": 14,
   "id": "e7e067a9-09f4-4c5f-a237-fd793532d1ca",
   "metadata": {},
   "outputs": [
    {
     "name": "stdout",
     "output_type": "stream",
     "text": [
      "\n",
      "Element at index (1, 2):\n",
      "tensor(6)\n",
      "\n",
      "Element at index (0, 3):\n",
      "tensor(2)\n"
     ]
    }
   ],
   "source": [
    "# Accessing elements\n",
    "print(\"\\nElement at index (1, 2):\")\n",
    "print(tensor2d[1, 2])\n",
    "\n",
    "print(\"\\nElement at index (0, 3):\")\n",
    "print(tensor2d[0, 1])"
   ]
  },
  {
   "cell_type": "code",
   "execution_count": 9,
   "id": "766a23f9-8135-4779-843e-130ebba1dc87",
   "metadata": {},
   "outputs": [
    {
     "name": "stdout",
     "output_type": "stream",
     "text": [
      "\n",
      "Tensor Shape:\n",
      "torch.Size([2, 3])\n",
      "\n",
      "Tensor Size:\n",
      "torch.Size([2, 3])\n",
      "\n",
      "Tensor Data Type:\n",
      "torch.int64\n",
      "\n",
      "Element at index (1, 2):\n",
      "tensor(6)\n"
     ]
    }
   ],
   "source": [
    "# Tensor shape\n",
    "print(\"\\nTensor Shape:\")\n",
    "print(tensor2d.shape)\n",
    "\n",
    "# Tensor size\n",
    "print(\"\\nTensor Size:\")\n",
    "print(tensor2d.size())\n",
    "\n",
    "# Tensor shape\n",
    "print(\"\\nTensor Data Type:\")\n",
    "print(tensor2d.dtype)"
   ]
  },
  {
   "cell_type": "code",
   "execution_count": 15,
   "id": "e95629d7-05f3-41e5-86a4-1baea67c4ec3",
   "metadata": {},
   "outputs": [
    {
     "name": "stdout",
     "output_type": "stream",
     "text": [
      "Tensor with custom data type:\n",
      "tensor([[1., 1., 1.],\n",
      "        [1., 1., 1.]], dtype=torch.float64)\n"
     ]
    }
   ],
   "source": [
    "# Create a tensor with specific data type (e.g., float64)\n",
    "custom_dtype = torch.ones(2, 3, dtype=torch.float64)\n",
    "print(\"Tensor with custom data type:\")\n",
    "print(custom_dtype)"
   ]
  },
  {
   "cell_type": "markdown",
   "id": "23661a34-45f5-49dd-a35d-7d899d4da963",
   "metadata": {},
   "source": [
    "## Basic Tensor Operations <a class=\"anchor\" id=\"operations\"></a>"
   ]
  },
  {
   "cell_type": "code",
   "execution_count": 18,
   "id": "91f32bf1-9172-467d-b2cd-9bbfd99f5c30",
   "metadata": {},
   "outputs": [
    {
     "name": "stdout",
     "output_type": "stream",
     "text": [
      "Tensor Addition:\n",
      "tensor([11, 12, 13, 14, 15])\n",
      "\n",
      "Tensor Substraction:\n",
      "tensor([-4, -3, -2, -1,  0])\n"
     ]
    }
   ],
   "source": [
    "# Tensor addition\n",
    "tensor_add = tensor1d + 10\n",
    "print(\"Tensor Addition:\")\n",
    "print(tensor_add)\n",
    "\n",
    "# Tensor subtraction\n",
    "tensor_sub = tensor1d - 5\n",
    "print(\"\\nTensor Substraction:\")\n",
    "print(tensor_sub)"
   ]
  },
  {
   "cell_type": "code",
   "execution_count": 61,
   "id": "a0270b7b-a626-459f-940f-32dd348728a2",
   "metadata": {},
   "outputs": [
    {
     "name": "stdout",
     "output_type": "stream",
     "text": [
      "Element-wise of a + b:\n",
      "tensor([5, 7, 9])\n",
      "\n",
      "Element-wise of a- y:\n",
      "tensor([-3, -3, -3])\n",
      "\n",
      "Sum all elements in a:\n",
      "tensor(6)\n",
      "\n",
      "Sum all elements in b:\n",
      "tensor(15)\n"
     ]
    }
   ],
   "source": [
    "a = torch.tensor([1, 2, 3])\n",
    "b = torch.tensor([4, 5, 6])\n",
    "\n",
    "# Element-wise addition\n",
    "result = a + b\n",
    "print(\"Element-wise of a + b:\")\n",
    "print(result)\n",
    "\n",
    "# Element-wise subtraction\n",
    "result = a - b\n",
    "print(\"\\nElement-wise of a- y:\")\n",
    "print(result)\n",
    "\n",
    "# Sum all elements in the tensor\n",
    "a_sum = torch.sum(a)\n",
    "b_sum = torch.sum(b)\n",
    "print(\"\\nSum all elements in a:\")\n",
    "print(a_sum)\n",
    "print(\"\\nSum all elements in b:\")\n",
    "print(b_sum)"
   ]
  },
  {
   "cell_type": "code",
   "execution_count": 58,
   "id": "1332ba06-219e-4867-96fe-197ae515691d",
   "metadata": {},
   "outputs": [
    {
     "name": "stdout",
     "output_type": "stream",
     "text": [
      "Tensor a Multiplication:\n",
      "tensor([2, 4, 6])\n",
      "\n",
      "Tensor b Multiplication:\n",
      "tensor([ 8, 10, 12])\n"
     ]
    }
   ],
   "source": [
    "# Element-wise multiplication\n",
    "tensora_mul = a * 2\n",
    "print(\"Tensor a Multiplication:\")\n",
    "print(tensora_mul)\n",
    "\n",
    "tensorb_mul = b * 2\n",
    "print(\"\\nTensor b Multiplication:\")\n",
    "print(tensorb_mul)"
   ]
  },
  {
   "cell_type": "code",
   "execution_count": 31,
   "id": "7a4fd188-971c-41e7-a3be-408f2b33394e",
   "metadata": {},
   "outputs": [
    {
     "name": "stdout",
     "output_type": "stream",
     "text": [
      "Sine of a Tensor:\n",
      "tensor([[-3.1965e-01,  3.0857e-41,  0.0000e+00,  0.0000e+00],\n",
      "        [ 9.8822e-01,  3.0857e-41,  9.2656e-02,  3.0857e-41],\n",
      "        [-5.4626e-01,  4.5836e-41,  1.4013e-45,  0.0000e+00]])\n",
      "\n",
      "Exponent of a Tensor:\n",
      "tensor([[0., 1., 1., 1.],\n",
      "        [0., 1., 0., 1.],\n",
      "        [0., 1., 1., 1.]])\n"
     ]
    }
   ],
   "source": [
    "# Perform element-wise operations\n",
    "print(\"Sine of a Tensor:\")\n",
    "print(torch.sin(x))\n",
    "\n",
    "print(\"\\nExponent of a Tensor:\")\n",
    "print(torch.exp(x))"
   ]
  },
  {
   "cell_type": "markdown",
   "id": "2882d3cf-21e0-43be-844c-419878783db1",
   "metadata": {},
   "source": [
    "## Tensor Reshaping and Splicing <a class=\"anchor\" id=\"reshaping\"></a>"
   ]
  },
  {
   "cell_type": "code",
   "execution_count": 42,
   "id": "6f0291c7-129a-4dcd-8520-e11827c00c93",
   "metadata": {},
   "outputs": [
    {
     "name": "stdout",
     "output_type": "stream",
     "text": [
      "Tensor 1D:\n",
      "tensor([ 0,  1,  2,  3,  4,  5,  6,  7,  8,  9, 10, 11])\n"
     ]
    }
   ],
   "source": [
    "# Reshaping tensors\n",
    "tensor_1d = torch.arange(12)\n",
    "print(\"Tensor 1D:\")\n",
    "print(tensor_1d)"
   ]
  },
  {
   "cell_type": "code",
   "execution_count": 51,
   "id": "7301fea4-3b1a-4839-8188-b6e6189f0b33",
   "metadata": {},
   "outputs": [
    {
     "name": "stdout",
     "output_type": "stream",
     "text": [
      "Tensor Reshaping with torch.reshape:\n",
      "tensor([[ 0,  1],\n",
      "        [ 2,  3],\n",
      "        [ 4,  5],\n",
      "        [ 6,  7],\n",
      "        [ 8,  9],\n",
      "        [10, 11]])\n",
      "\n",
      "Tensor Reshaping with torch.view:\n",
      "tensor([[ 0,  1,  2,  3],\n",
      "        [ 4,  5,  6,  7],\n",
      "        [ 8,  9, 10, 11]])\n",
      "\n",
      "Tensor Reshaping with torch.view:\n",
      "tensor([[ 0,  1,  2,  3,  4,  5],\n",
      "        [ 6,  7,  8,  9, 10, 11]])\n"
     ]
    }
   ],
   "source": [
    "# Reshaping tensors\n",
    "tensor_reshape = tensor_1d.reshape(6, 2)\n",
    "print(\"Tensor Reshaping with torch.reshape:\")\n",
    "print(tensor_reshape)\n",
    "\n",
    "tensor_reshape = tensor_1d.view(3, 4)\n",
    "print(\"\\nTensor Reshaping with torch.view:\")\n",
    "print(tensor_reshape)\n",
    "\n",
    "# Automatically determine size using -1\n",
    "reshaped_auto = tensor_1d.view(2, -1)\n",
    "print(\"\\nTensor Reshaping with torch.view:\")\n",
    "print(reshaped_auto)"
   ]
  },
  {
   "cell_type": "code",
   "execution_count": 39,
   "id": "5117c2cc-22e9-4818-a43d-6d24c1aa2834",
   "metadata": {},
   "outputs": [
    {
     "name": "stdout",
     "output_type": "stream",
     "text": [
      "Slicing Tensor at position 0, 1:\n",
      "tensor(1)\n",
      "\n",
      "Slicing Tensor 1 to 3:\n",
      "tensor([[ 1,  2],\n",
      "        [ 5,  6],\n",
      "        [ 9, 10]])\n",
      "\n",
      "Slicing Tensor 1 to 3:\n",
      "tensor([ 8,  9, 10, 11])\n"
     ]
    }
   ],
   "source": [
    "# Slicing tensors\n",
    "print(\"Slicing Tensor at position 0, 1:\")\n",
    "print(tensor_reshape[0, 1])\n",
    "\n",
    "print(\"\\nSlicing Tensor 1 to 3:\")\n",
    "print(tensor_reshape[:, 1:3])\n",
    "\n",
    "print(\"\\nSlicing Tensor 1 to 3:\")\n",
    "print(tensor_reshape[2, :])"
   ]
  },
  {
   "cell_type": "code",
   "execution_count": null,
   "id": "29c8624d-68c4-4b13-aa41-4d9b93e7cc32",
   "metadata": {},
   "outputs": [],
   "source": [
    "# Concatenating tensors\n",
    "tensor_concat = torch.cat((tensor_reshape, tensor_reshape), dim=1)\n",
    "print(\"\\nConcatenated Tensor:\")\n",
    "print(tensor_concat)"
   ]
  },
  {
   "cell_type": "markdown",
   "id": "bbe83da7-e84f-4506-b143-4d63535300ad",
   "metadata": {},
   "source": [
    "## Linear Algebra Operations and Broadcasting <a class=\"anchor\" id=\"linear\"></a>"
   ]
  },
  {
   "cell_type": "code",
   "execution_count": 56,
   "id": "b6d698b1-2cd0-447d-bca2-2d8cc5659a96",
   "metadata": {},
   "outputs": [
    {
     "name": "stdout",
     "output_type": "stream",
     "text": [
      "Matrix Multiplication of Matrix A and B:\n",
      "tensor([[19, 22],\n",
      "        [43, 50]])\n",
      "\n",
      "Matrix Multiplication of Matrix A and B Transpose:\n",
      "tensor([[17, 23],\n",
      "        [39, 53]])\n",
      "\n",
      "Matrix Multiplication of Matrix 1 and 2 Transpose:\n",
      "tensor([[ 5, 11, 17],\n",
      "        [11, 25, 39]])\n"
     ]
    }
   ],
   "source": [
    "# Matrix multiplication\n",
    "matrix_a = torch.tensor([[1, 2], [3, 4]])\n",
    "matrix_b = torch.tensor([[5, 6], [7, 8]])\n",
    "matrix_result = torch.matmul(matrix_a, matrix_b)\n",
    "print(\"Matrix Multiplication of Matrix A and B:\")\n",
    "print(matrix_result)\n",
    "\n",
    "# Matrix multiplication with transpose\n",
    "# Matrix multiplication of matrix A and the transpose of matrix B computes the dot product of each row in A with each column in the transpose of B.\n",
    "matrix_transpose = torch.matmul(matrix_a, matrix_b.T)\n",
    "print(\"\\nMatrix Multiplication of Matrix A and B Transpose:\")\n",
    "print(matrix_transpose)\n",
    "\n",
    "# Define matrices A and B\n",
    "matrix_1 = torch.tensor([[1, 2],\n",
    "                         [3, 4]])\n",
    "\n",
    "matrix_2 = torch.tensor([[1, 2],\n",
    "                         [3, 4],\n",
    "                         [5, 6]])\n",
    "matrix_transpose2 = torch.matmul(matrix_1, matrix_2.T)\n",
    "print(\"\\nMatrix Multiplication of Matrix 1 and 2 Transpose:\")\n",
    "print(matrix_transpose2)"
   ]
  },
  {
   "cell_type": "code",
   "execution_count": 55,
   "id": "ef31998c-ffc3-4106-97c2-d9962ae18fe4",
   "metadata": {},
   "outputs": [
    {
     "name": "stdout",
     "output_type": "stream",
     "text": [
      "Tensor Reshaping:\n",
      "tensor([[ 0,  1,  2,  3],\n",
      "        [ 4,  5,  6,  7],\n",
      "        [ 8,  9, 10, 11]])\n",
      "\n",
      "Broadcasting:\n",
      "tensor([[ 1,  2,  3,  4],\n",
      "        [ 6,  7,  8,  9],\n",
      "        [11, 12, 13, 14]])\n"
     ]
    }
   ],
   "source": [
    "tensor_reshape = torch.arange(12).reshape(3, 4)\n",
    "print(\"Tensor Reshaping:\")\n",
    "print(tensor_reshape)\n",
    "\n",
    "# Broadcasting\n",
    "tensor_broadcast = torch.tensor([[1], [2], [3]])\n",
    "# Elements from each column is added to 1, 2, and 3, respectively\n",
    "result = tensor_reshape + tensor_broadcast\n",
    "print(\"\\nBroadcasting:\")\n",
    "print(result)"
   ]
  },
  {
   "cell_type": "markdown",
   "id": "d0370246-7877-457c-8d7c-5c7f9f14e042",
   "metadata": {},
   "source": [
    "## GPU Acceleration with Tensors <a class=\"anchor\" id=\"gpu\"></a>"
   ]
  },
  {
   "cell_type": "code",
   "execution_count": 64,
   "id": "869c31ac-4173-415c-90e4-ad7800bc9daf",
   "metadata": {},
   "outputs": [
    {
     "name": "stdout",
     "output_type": "stream",
     "text": [
      "Tensor on GPU:\n",
      "tensor([1, 2, 3, 4, 5], device='cuda:0')\n",
      "\n",
      "Result on GPU:\n",
      "tensor([ 2,  4,  6,  8, 10], device='cuda:0')\n"
     ]
    }
   ],
   "source": [
    "# Check if GPU / cuda is available\n",
    "device = torch.device(\"cuda\" if torch.cuda.is_available() else \"cpu\")\n",
    "\n",
    "# Moving tensors to GPU\n",
    "tensor_gpu = tensor1d.to(device)\n",
    "print(\"Tensor on GPU:\")\n",
    "print(tensor_gpu)\n",
    "\n",
    "# Performing operations on GPU\n",
    "result_gpu = tensor_gpu * 2\n",
    "print(\"\\nResult on GPU:\")\n",
    "print(result_gpu)"
   ]
  },
  {
   "cell_type": "markdown",
   "id": "ae3a2a03-7d85-4076-986d-3d4bee6fb1e8",
   "metadata": {},
   "source": [
    "## Calculating Gradients <a class=\"anchor\" id=\"gradient\"></a>"
   ]
  },
  {
   "cell_type": "code",
   "execution_count": 65,
   "id": "f9298b21-9986-4daa-9d40-682c92128254",
   "metadata": {},
   "outputs": [
    {
     "name": "stdout",
     "output_type": "stream",
     "text": [
      "\n",
      "Gradient of tensor_grad:\n",
      "tensor([3., 3., 3.])\n"
     ]
    }
   ],
   "source": [
    "# Tensor with requires_grad\n",
    "tensor_grad = torch.tensor([1., 2., 3.], requires_grad=True)\n",
    "\n",
    "# Define a computation\n",
    "output = (tensor_grad * 3).sum()\n",
    "\n",
    "# Perform backward pass\n",
    "output.backward()\n",
    "\n",
    "# Access gradients\n",
    "print(\"Gradient of tensor_grad:\")\n",
    "print(tensor_grad.grad)"
   ]
  },
  {
   "cell_type": "code",
   "execution_count": 80,
   "id": "def627b4-dae7-4f39-98e2-63c2bd2f5fbe",
   "metadata": {},
   "outputs": [
    {
     "name": "stdout",
     "output_type": "stream",
     "text": [
      "Random tensors of float dtype:\n",
      "tensor([[0.4256, 0.0898, 0.4951]])\n",
      "tensor([4., 5., 6.])\n",
      "\n",
      "In-place addition:\n",
      "tensor([[4.4256, 5.0898, 6.4951]])\n",
      "\n",
      "Enable gradient:\n",
      "tensor([[4.4256, 5.0898, 6.4951]], requires_grad=True)\n",
      "\n",
      "Compute Loss with Sum:\n",
      "tensor(32.0210, grad_fn=<SumBackward0>)\n",
      "\n",
      "Loss after Gradients:\n",
      "tensor(32.0210, grad_fn=<SumBackward0>)\n"
     ]
    }
   ],
   "source": [
    "a = torch.rand(1, 3)\n",
    "b = torch.tensor([4., 5., 6.])\n",
    "print(\"Random tensors of float dtype:\")\n",
    "print(a)\n",
    "print(b)\n",
    "\n",
    "# In-place addition\n",
    "a.add_(b)\n",
    "print(\"\\nIn-place addition:\")\n",
    "print(a)\n",
    "\n",
    "# Enable gradient tracking for optimization\n",
    "a.requires_grad = True\n",
    "print(\"\\nEnable gradient:\")\n",
    "print(a)\n",
    "\n",
    "# Perform some operations (e.g., loss computation)\n",
    "loss = (a * 2).sum()\n",
    "print(\"\\nCompute Loss with Sum:\")\n",
    "print(loss)\n",
    "\n",
    "loss.backward()  # Compute gradients\n",
    "print(\"\\nLoss after Gradients:\")\n",
    "print(loss)"
   ]
  },
  {
   "cell_type": "markdown",
   "id": "c0c79c8f-5664-4b63-b4b5-c17ac257dc08",
   "metadata": {},
   "source": [
    "## Bonus: Tensors to NumPy Arrays <a class=\"anchor\" id=\"convert\"></a>"
   ]
  },
  {
   "cell_type": "code",
   "execution_count": 69,
   "id": "c383be6c-d0c1-4bb7-99ff-cd6568b533e6",
   "metadata": {},
   "outputs": [
    {
     "name": "stdout",
     "output_type": "stream",
     "text": [
      "Random Tensor to NumPy Array:\n",
      "[[0.47379214 0.1305232  0.15354198 0.9151255 ]\n",
      " [0.6240082  0.39175177 0.20841885 0.21017677]\n",
      " [0.09977621 0.07718092 0.83010954 0.8067131 ]]\n",
      "\n",
      "NumPy Array Back to Tensor:\n",
      "[[0.47379214 0.1305232  0.15354198 0.9151255 ]\n",
      " [0.6240082  0.39175177 0.20841885 0.21017677]\n",
      " [0.09977621 0.07718092 0.83010954 0.8067131 ]]\n"
     ]
    }
   ],
   "source": [
    "random_tensor = torch.rand(3, 4)\n",
    "\n",
    "numpy_array = random_tensor.numpy()\n",
    "print(\"Random Tensor to NumPy Array:\")\n",
    "print(numpy_array)\n",
    "# Do operations on the NumPy array\n",
    "# ...\n",
    "\n",
    "# Convert back to PyTorch tensor\n",
    "tensor_from_numpy = torch.from_numpy(numpy_array)\n",
    "print(\"\\nNumPy Array Back to Tensor:\")\n",
    "print(numpy_array)"
   ]
  },
  {
   "cell_type": "markdown",
   "id": "0712f5ed-30bd-45af-bda9-c8553ca9a5c0",
   "metadata": {},
   "source": [
    "**[Go to Top](#top)**"
   ]
  },
  {
   "cell_type": "code",
   "execution_count": null,
   "id": "24a87cf8-dba6-43c0-acd0-9f83e27f1e0d",
   "metadata": {},
   "outputs": [],
   "source": []
  }
 ],
 "metadata": {
  "kernelspec": {
   "display_name": "Python 3 (ipykernel)",
   "language": "python",
   "name": "python3"
  },
  "language_info": {
   "codemirror_mode": {
    "name": "ipython",
    "version": 3
   },
   "file_extension": ".py",
   "mimetype": "text/x-python",
   "name": "python",
   "nbconvert_exporter": "python",
   "pygments_lexer": "ipython3",
   "version": "3.10.12"
  }
 },
 "nbformat": 4,
 "nbformat_minor": 5
}
